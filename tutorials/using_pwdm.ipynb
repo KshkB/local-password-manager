{
 "cells": [
  {
   "cell_type": "markdown",
   "id": "31b478c4-613b-4c8f-ad38-886b415233e9",
   "metadata": {},
   "source": [
    "# Using the local password manager\n",
    "\n",
    "The package `psypwdm` is a local password manager serving to locally, securely and conveniently store passwords to personal systems.\n",
    "\n",
    "The password manager is intended to be used with the relational database PostgreSQL (which can be downloaded [here](https://www.postgresql.org/)), so please ensure this is installed.\n",
    "\n",
    "In this tutorial we will walk through the process required to initialise the password manager table in the postgres databse, how to insert and retrieve entries and how to delete the table. \n",
    "\n",
    "**Note** *The password itself will not be stored, only its `SHA256` hash, salted appropriately. This means if you forget a password, you cannot simply read it off from a stored entry, however you can try to guess what the password is through the `retrieve_for_pwd` function discussed later.* \n",
    "\n",
    "## Installation\n",
    "\n",
    "Installing the password manager `psypwdm` is straightforward. It can be pip installed with the following command:\n",
    "\n",
    "    $ pip install psypwdm\n",
    "\n",
    "With PostgreSQL up and running, simply importing `psypwdm` will create the password manager table as follows."
   ]
  },
  {
   "cell_type": "code",
   "execution_count": 1,
   "id": "99b413ea-a1b7-4a71-81bb-5b3dccd904ab",
   "metadata": {},
   "outputs": [
    {
     "name": "stdout",
     "output_type": "stream",
     "text": [
      "PasswordManager has been initialised\n"
     ]
    }
   ],
   "source": [
    "import psypwdm as pwdm"
   ]
  },
  {
   "cell_type": "markdown",
   "id": "f7c831e4-ab71-42bb-8cd5-d9a4246ddf43",
   "metadata": {},
   "source": [
    "The printed statement above will only appear if the `passwordmanager` table is created for the first time on import.\n",
    "\n",
    "**Warning.** *Be advised that on import, `psypwdm` will create a table name `passwordmanager`. If this table already exists, then nothing will happen. Method calls on `psypwdm` will modify this table. This should be noted if you have a `passwordmanager` table already initialised for other reasons.*\n",
    "\n",
    "## Adding entries\n",
    "\n",
    "The insert function, viewed as a method call on `pwdm`, enables inserting entries into the `passwordmanager` table. \n",
    "\n",
    "The codeblock below demonstrates adding the following entries.\n",
    "\n",
    "```\n",
    "1.\n",
    "\n",
    "useraccountsystemtype: gmail account\n",
    "\n",
    "username: example@gmail.com\n",
    "\n",
    "password: examplepassword\n",
    "\n",
    "comments: password hint, example of a password\n",
    "\n",
    "```\n",
    "\n",
    "```\n",
    "2.\n",
    "\n",
    "useraccountsystemtype: bank account\n",
    "\n",
    "username: bankman\n",
    "\n",
    "password: givememymoney!\n",
    "\n",
    "comments: password hint, what do i want?\n",
    "\n",
    "```"
   ]
  },
  {
   "cell_type": "code",
   "execution_count": 2,
   "id": "35954300-a8df-4349-a9d4-a2af7ec4a039",
   "metadata": {},
   "outputs": [
    {
     "name": "stdin",
     "output_type": "stream",
     "text": [
      "insert password:  ········\n"
     ]
    },
    {
     "name": "stdout",
     "output_type": "stream",
     "text": [
      "entry successfully added to passwordmanager!\n"
     ]
    }
   ],
   "source": [
    "pwdm.insert(\n",
    "    useraccountsystemtype='gmail account',\n",
    "    username='example@gmail.com',\n",
    "    comments='password hint, example of a password'    \n",
    ")"
   ]
  },
  {
   "cell_type": "code",
   "execution_count": 3,
   "id": "0f5e83f0-767a-4fc9-b0a2-b951cbd830e9",
   "metadata": {},
   "outputs": [
    {
     "name": "stdin",
     "output_type": "stream",
     "text": [
      "insert password:  ········\n"
     ]
    },
    {
     "name": "stdout",
     "output_type": "stream",
     "text": [
      "entry successfully added to passwordmanager!\n"
     ]
    }
   ],
   "source": [
    "pwdm.insert(\n",
    "    useraccountsystemtype='bank account',\n",
    "    username='bankman',\n",
    "    comments='password hint, what do i want?' \n",
    ")"
   ]
  },
  {
   "cell_type": "markdown",
   "id": "ef3fbde6-659e-4c5a-bc4f-f6456844a509",
   "metadata": {},
   "source": [
    "**Note.** *All fields in the password manager are stored as plain text except for the password.*\n",
    "\n",
    "## Retrieval\n",
    "\n",
    "The `retrieve` function allows for retrieval of entries in the `passwordmanager` table. Entries can be retrieved all at once, by specified plain text value or by password, if this is known. Each retrieval method will be demonstrated below.\n",
    "\n",
    "**Note.** *Since passwords are not stored in plain text, only hash collision matches will be returned.*\n",
    "\n",
    "### Retrieve all \n",
    "\n",
    "To retrieve *all* entries, simply call `retrieve` without any arguments."
   ]
  },
  {
   "cell_type": "code",
   "execution_count": 4,
   "id": "eeb84fe6-4f31-413d-a417-4bf6b55b6a05",
   "metadata": {},
   "outputs": [
    {
     "data": {
      "text/plain": [
       "[(1,\n",
       "  '2024-07-20 08:14:28.564229',\n",
       "  'gmail account',\n",
       "  'example@gmail.com',\n",
       "  'cc08af454351e59ed90692cd52f9d1a92519a4a87f55d9a42522588c6a6a877f',\n",
       "  '$2b$12$6KFYf4sP/nO1lvriG7Qh8e                                   ',\n",
       "  'password hint, example of a password'),\n",
       " (2,\n",
       "  '2024-07-20 08:14:36.152516',\n",
       "  'bank account',\n",
       "  'bankman',\n",
       "  '5513775b054f7fec9d38d741593841db0a75fd3b5696adce9dc270d2b78850fc',\n",
       "  '$2b$12$nqBq5725PCJBAo7KXd6eQ.                                   ',\n",
       "  'password hint, what do i want?')]"
      ]
     },
     "execution_count": 4,
     "metadata": {},
     "output_type": "execute_result"
    }
   ],
   "source": [
    "pwdm.retrieve()"
   ]
  },
  {
   "cell_type": "markdown",
   "id": "4f95e46d-ffd0-4f27-b0b7-b904239b22d9",
   "metadata": {},
   "source": [
    "Observe that there are more fields than those for direct user input, explained as follows:\n",
    "\n",
    "- the first is a generic ID field\n",
    "- the second is a timestamp, recorded the time when the entry was created. This is useful if changes to the same system has been made (such as a password change), so that only the most recent entry wil be relevant.\n",
    "- the third is the useraccountsystemtype, passed on input\n",
    "- the fourth is the username, passed on input\n",
    "- the fifth is the hash of the password entered on input\n",
    "- the sixth is the salt value used in hashing, ensuring that if the same password is used across multiple accounts, this will fact itself will not be readily visible\n",
    "- the seventh is the comments pertaining to the entry, passed on input\n",
    "\n",
    "### Retrieve by field\n",
    "\n",
    "For any field other than `password`, entries can be returned based on that field value. This is implemented through passing the field name(s) and value(s) of to be retrieved, demonstrated below.\n"
   ]
  },
  {
   "cell_type": "code",
   "execution_count": 5,
   "id": "5769435d-78fd-4442-9246-104bafa6e974",
   "metadata": {},
   "outputs": [
    {
     "data": {
      "text/plain": [
       "[(2,\n",
       "  '2024-07-20 08:14:36.152516',\n",
       "  'bank account',\n",
       "  'bankman',\n",
       "  '5513775b054f7fec9d38d741593841db0a75fd3b5696adce9dc270d2b78850fc',\n",
       "  '$2b$12$nqBq5725PCJBAo7KXd6eQ.                                   ',\n",
       "  'password hint, what do i want?')]"
      ]
     },
     "execution_count": 5,
     "metadata": {},
     "output_type": "execute_result"
    }
   ],
   "source": [
    "pwdm.retrieve(useraccountsystemtype='bank account')"
   ]
  },
  {
   "cell_type": "code",
   "execution_count": 6,
   "id": "ed35a439-9e80-4f42-91d2-4f226fce00af",
   "metadata": {},
   "outputs": [
    {
     "data": {
      "text/plain": [
       "[]"
      ]
     },
     "execution_count": 6,
     "metadata": {},
     "output_type": "execute_result"
    }
   ],
   "source": [
    "pwdm.retrieve(useraccountsystemtype='bank account', username='banksy')"
   ]
  },
  {
   "cell_type": "markdown",
   "id": "b6c894d1-3328-4a92-a1d9-44872b953831",
   "metadata": {},
   "source": [
    "We see above that while there exists an entry for the `useraccountsystemtype` is `bank account`, there are no entries for when the `username` field is also `banksy`. That is, the `passwordmanager` table has no record of a `banksy` user associated with a `bank account`.\n",
    "\n",
    "### Retrieve by password\n",
    "\n",
    "As demonstrated above, passwords are not stored. Only their hash + salt is stored. Since the salt is in plain text, it can be used in conjunction with any password guess to check if the password guessed matches the password of any entry in the `passwordmanager` table.\n",
    "\n",
    "This functionality is implemented through the `retrieve_for_pwd` function, demonstrated below. Note, *no* arguments are passed to the function. It will request a password securely through Python's built-in `getpass` library.\n"
   ]
  },
  {
   "cell_type": "code",
   "execution_count": 7,
   "id": "9881594a-1534-4e12-838f-919680ee83b0",
   "metadata": {},
   "outputs": [
    {
     "name": "stdin",
     "output_type": "stream",
     "text": [
      "insert password:  ········\n"
     ]
    },
    {
     "data": {
      "text/plain": [
       "[(1,\n",
       "  '2024-07-20 08:14:28.564229',\n",
       "  'gmail account',\n",
       "  'example@gmail.com',\n",
       "  'cc08af454351e59ed90692cd52f9d1a92519a4a87f55d9a42522588c6a6a877f',\n",
       "  '$2b$12$6KFYf4sP/nO1lvriG7Qh8e                                   ',\n",
       "  'password hint, example of a password')]"
      ]
     },
     "execution_count": 7,
     "metadata": {},
     "output_type": "execute_result"
    }
   ],
   "source": [
    "pwdm.retrieve_for_pwd()"
   ]
  },
  {
   "cell_type": "code",
   "execution_count": 8,
   "id": "2421c50d-4314-431a-ab04-bd8c1f820079",
   "metadata": {},
   "outputs": [
    {
     "name": "stdin",
     "output_type": "stream",
     "text": [
      "insert password:  ········\n"
     ]
    },
    {
     "data": {
      "text/plain": [
       "[(2,\n",
       "  '2024-07-20 08:14:36.152516',\n",
       "  'bank account',\n",
       "  'bankman',\n",
       "  '5513775b054f7fec9d38d741593841db0a75fd3b5696adce9dc270d2b78850fc',\n",
       "  '$2b$12$nqBq5725PCJBAo7KXd6eQ.                                   ',\n",
       "  'password hint, what do i want?')]"
      ]
     },
     "execution_count": 8,
     "metadata": {},
     "output_type": "execute_result"
    }
   ],
   "source": [
    "pwdm.retrieve_for_pwd()"
   ]
  },
  {
   "cell_type": "markdown",
   "id": "9e23f18b-c3a8-4f1b-ace9-e2848de9f813",
   "metadata": {},
   "source": [
    "If we guessed incorrectly, the nothing will be returned as seen below."
   ]
  },
  {
   "cell_type": "code",
   "execution_count": 9,
   "id": "ee080ca3-3a2e-4762-8bd5-3fe0a8ab79e8",
   "metadata": {},
   "outputs": [
    {
     "name": "stdin",
     "output_type": "stream",
     "text": [
      "insert password:  ········\n"
     ]
    },
    {
     "data": {
      "text/plain": [
       "[]"
      ]
     },
     "execution_count": 9,
     "metadata": {},
     "output_type": "execute_result"
    }
   ],
   "source": [
    "pwdm.retrieve_for_pwd()"
   ]
  },
  {
   "cell_type": "markdown",
   "id": "8f2fcf7d-9eec-4f99-ad03-276e3139ace7",
   "metadata": {},
   "source": [
    "## Output\n",
    "\n",
    "We might like to write the contents of the `passwordmanager` table to a more universal file format for analysis by other means. This is the purpose of the `out` function. It passes a file path to write the table, relative to the current directory. \n",
    "\n",
    "Below, the contents of `passwordmanager` will be written to the file `out.csv`.\n"
   ]
  },
  {
   "cell_type": "code",
   "execution_count": 10,
   "id": "b7268a1b-b291-4dd7-b3a7-516f8f476876",
   "metadata": {},
   "outputs": [
    {
     "name": "stdout",
     "output_type": "stream",
     "text": [
      "Success! Contents of passwordmanager have been written to out.csv\n"
     ]
    }
   ],
   "source": [
    "pwdm.out('out.csv')"
   ]
  },
  {
   "cell_type": "markdown",
   "id": "18425651-7105-4188-bd28-248256871948",
   "metadata": {},
   "source": [
    "## Delete\n",
    "\n",
    "Finally, if we are done with our password manager and/or wish to start fresh with a new table, the current table can be deleted with the `delete` function. This function passes no parameters, however it will require confirmation before deleting."
   ]
  },
  {
   "cell_type": "code",
   "execution_count": 11,
   "id": "8f9da99d-a282-49cf-a718-20b9a03d0bd5",
   "metadata": {},
   "outputs": [
    {
     "name": "stdin",
     "output_type": "stream",
     "text": [
      "Are you sure you want to delete the passwordmanager table and contents? [Y/N] Y\n"
     ]
    },
    {
     "name": "stdout",
     "output_type": "stream",
     "text": [
      "the passwordmanager table has been deleted.\n"
     ]
    }
   ],
   "source": [
    "pwdm.delete()"
   ]
  }
 ],
 "metadata": {
  "kernelspec": {
   "display_name": "pwdm2",
   "language": "python",
   "name": "myenv"
  },
  "language_info": {
   "codemirror_mode": {
    "name": "ipython",
    "version": 3
   },
   "file_extension": ".py",
   "mimetype": "text/x-python",
   "name": "python",
   "nbconvert_exporter": "python",
   "pygments_lexer": "ipython3",
   "version": "3.11.7"
  }
 },
 "nbformat": 4,
 "nbformat_minor": 5
}
